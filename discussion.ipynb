{
 "cells": [
  {
   "cell_type": "code",
   "execution_count": 2,
   "metadata": {},
   "outputs": [],
   "source": [
    "import json"
   ]
  },
  {
   "cell_type": "code",
   "execution_count": 9,
   "metadata": {},
   "outputs": [],
   "source": [
    "data_dir = \"datasets/sp6000/train.zh.json\"\n",
    "zh_data_dir = \"datasets/sp6000/train.zh.json\"\n",
    "\n",
    "\n",
    "with open(data_dir, \"r\") as f:\n",
    "    zh_js = json.load(f)\n"
   ]
  },
  {
   "cell_type": "code",
   "execution_count": 4,
   "metadata": {},
   "outputs": [
    {
     "name": "stderr",
     "output_type": "stream",
     "text": [
      "PTBTokenizer tokenized 4 tokens at 103.99 tokens per second.\n",
      "PTBTokenizer tokenized 4 tokens at 99.76 tokens per second.\n"
     ]
    }
   ],
   "source": [
    "import language_evaluation\n",
    "from pprint import PrettyPrinter\n",
    "pprint = PrettyPrinter().pprint\n",
    "\n",
    "predicts = ['i am a 男孩']\n",
    "answers = ['i am a 男孩']\n",
    "\n",
    "evaluator = language_evaluation.CocoEvaluator()\n",
    "results = evaluator.run_evaluation(predicts, answers)\n",
    "pprint(results)\n",
    "# {'Bleu_1': 0.9999999997500004,\n",
    "#  'Bleu_2': 0.5773502690332603,\n",
    "#  'Bleu_3': 4.3679023223468616e-06,\n",
    "#  'Bleu_4': 1.4287202142987477e-08,\n",
    "#  'CIDEr': 3.333333333333333,\n",
    "#  'METEOR': 0.43354749322305886,\n",
    "#  'ROUGE_L': 0.75,\n",
    "#  'SPICE': 0.6666666666666666}\n"
   ]
  },
  {
   "cell_type": "code",
   "execution_count": null,
   "metadata": {},
   "outputs": [],
   "source": []
  }
 ],
 "metadata": {
  "interpreter": {
   "hash": "32233ae6529c42717b7587caf7c094efd52f072d5ed69ee26415e2273cb9ea1e"
  },
  "kernelspec": {
   "display_name": "Python 3.7.11 64-bit ('vlt5': conda)",
   "language": "python",
   "name": "python3"
  },
  "language_info": {
   "codemirror_mode": {
    "name": "ipython",
    "version": 3
   },
   "file_extension": ".py",
   "mimetype": "text/x-python",
   "name": "python",
   "nbconvert_exporter": "python",
   "pygments_lexer": "ipython3",
   "version": "3.9.5"
  },
  "orig_nbformat": 4
 },
 "nbformat": 4,
 "nbformat_minor": 2
}
